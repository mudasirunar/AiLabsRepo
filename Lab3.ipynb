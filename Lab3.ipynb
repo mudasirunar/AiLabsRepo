{
 "cells": [
  {
   "cell_type": "code",
   "execution_count": 1,
   "id": "5d34bd0f-dc87-49ad-a8ca-d75494a57817",
   "metadata": {},
   "outputs": [
    {
     "name": "stdout",
     "output_type": "stream",
     "text": [
      "Prediction for Overcast and Mild: Yes\n",
      "\n",
      "Confusion Matrix:\n",
      "[[3 2]\n",
      " [1 8]]\n",
      "\n",
      "Classification Report:\n",
      "              precision    recall  f1-score   support\n",
      "\n",
      "           0       0.75      0.60      0.67         5\n",
      "           1       0.80      0.89      0.84         9\n",
      "\n",
      "    accuracy                           0.79        14\n",
      "   macro avg       0.78      0.74      0.75        14\n",
      "weighted avg       0.78      0.79      0.78        14\n",
      "\n"
     ]
    },
    {
     "name": "stderr",
     "output_type": "stream",
     "text": [
      "C:\\Users\\LAPTOP WORLD\\AppData\\Local\\Programs\\Python\\Python313\\Lib\\site-packages\\sklearn\\base.py:493: UserWarning: X does not have valid feature names, but KNeighborsClassifier was fitted with feature names\n",
      "  warnings.warn(\n"
     ]
    }
   ],
   "source": [
    "import pandas as pd\n",
    "from sklearn.model_selection import train_test_split\n",
    "from sklearn.neighbors import KNeighborsClassifier\n",
    "from sklearn.metrics import confusion_matrix, classification_report\n",
    "\n",
    "data = {\n",
    "    'Weather': ['Sunny', 'Sunny', 'Overcast', 'Rainy', 'Rainy', 'Rainy', 'Overcast', 'Sunny', 'Sunny', 'Rainy', 'Sunny', 'Overcast', 'Overcast', 'Rainy'],\n",
    "    'Temperature': ['Hot', 'Hot', 'Hot', 'Mild', 'Cool', 'Cool', 'Cool', 'Mild', 'Cool', 'Mild', 'Mild', 'Mild', 'Hot', 'Mild'],\n",
    "    'Play': ['No', 'No', 'Yes', 'Yes', 'Yes', 'No', 'Yes', 'No', 'Yes', 'Yes', 'Yes', 'Yes', 'Yes', 'No']\n",
    "}\n",
    "\n",
    "df = pd.DataFrame(data)\n",
    "\n",
    "df['Weather'] = df['Weather'].map({'Sunny': 0, 'Overcast': 1, 'Rainy': 2})\n",
    "df['Temperature'] = df['Temperature'].map({'Hot': 0, 'Mild': 1, 'Cool': 2})\n",
    "df['Play'] = df['Play'].map({'No': 0, 'Yes': 1})\n",
    "\n",
    "X = df[['Weather', 'Temperature']]\n",
    "y = df['Play']\n",
    "\n",
    "knn = KNeighborsClassifier(n_neighbors=3)\n",
    "knn.fit(X, y)\n",
    "\n",
    "new_data = [[1, 1]]  # Overcast (1), Mild (1)\n",
    "prediction = knn.predict(new_data)\n",
    "\n",
    "play_result = \"Yes\" if prediction[0] == 1 else \"No\"\n",
    "print(f\"Prediction for Overcast and Mild: {play_result}\")\n",
    "\n",
    "y_pred = knn.predict(X)\n",
    "conf_matrix = confusion_matrix(y, y_pred)\n",
    "print(\"\\nConfusion Matrix:\")\n",
    "print(conf_matrix)\n",
    "\n",
    "print(\"\\nClassification Report:\")\n",
    "print(classification_report(y, y_pred))\n"
   ]
  },
  {
   "cell_type": "code",
   "execution_count": 1,
   "id": "0e41237d-61d9-4dcc-95ec-47a505d3e2fc",
   "metadata": {},
   "outputs": [
    {
     "name": "stdout",
     "output_type": "stream",
     "text": [
      "Prediction for the query instance (3, 7): Good\n",
      "Distances to each training sample: [(np.float64(3.0), 'Good'), (np.float64(3.605551275463989), 'Good'), (np.float64(4.0), 'Bad'), (np.float64(5.0), 'Bad')]\n"
     ]
    }
   ],
   "source": [
    "import numpy as np\n",
    "from collections import Counter\n",
    "\n",
    "training_data = [\n",
    "    {'features': (7, 7), 'class': 'Bad'},\n",
    "    {'features': (7, 4), 'class': 'Bad'},\n",
    "    {'features': (3, 4), 'class': 'Good'},\n",
    "    {'features': (1, 4), 'class': 'Good'}\n",
    "]\n",
    "\n",
    "query_instance = (3, 7)\n",
    "\n",
    "def euclidean_distance(point1, point2):\n",
    "    return np.sqrt((point1[0] - point2[0]) ** 2 + (point1[1] - point2[1]) ** 2)\n",
    "\n",
    "distances = []\n",
    "for sample in training_data:\n",
    "    distance = euclidean_distance(query_instance, sample['features'])\n",
    "    distances.append((distance, sample['class']))\n",
    "\n",
    "distances.sort(key=lambda x: x[0])\n",
    "\n",
    "k = 3\n",
    "nearest_neighbors = [dist[1] for dist in distances[:k]]\n",
    "\n",
    "prediction = Counter(nearest_neighbors).most_common(1)[0][0]\n",
    "\n",
    "print(f\"Prediction for the query instance {query_instance}: {prediction}\")\n",
    "print(\"Distances to each training sample:\", distances)\n"
   ]
  },
  {
   "cell_type": "code",
   "execution_count": 2,
   "id": "bece13af-460c-477f-9ddf-876b8ed36388",
   "metadata": {},
   "outputs": [
    {
     "name": "stdout",
     "output_type": "stream",
     "text": [
      "Prediction for the query instance (3, 7): Good\n",
      "Distances to each training sample: [(3.0, 'Good'), (3.605551275463989, 'Good'), (4.0, 'Bad'), (5.0, 'Bad')]\n"
     ]
    }
   ],
   "source": [
    "import numpy as np\n",
    "from collections import Counter\n",
    "\n",
    "training_data = [\n",
    "    {'features': (7, 7), 'class': 'Bad'},\n",
    "    {'features': (7, 4), 'class': 'Bad'},\n",
    "    {'features': (3, 4), 'class': 'Good'},\n",
    "    {'features': (1, 4), 'class': 'Good'}\n",
    "]\n",
    "\n",
    "query_instance = (3, 7)\n",
    "\n",
    "def euclidean_distance(point1, point2):\n",
    "    return float(np.sqrt((point1[0] - point2[0]) ** 2 + (point1[1] - point2[1]) ** 2))\n",
    "\n",
    "distances = []\n",
    "for sample in training_data:\n",
    "    distance = euclidean_distance(query_instance, sample['features'])\n",
    "    distances.append((distance, sample['class']))\n",
    "\n",
    "distances.sort(key=lambda x: x[0])\n",
    "\n",
    "k = 3\n",
    "nearest_neighbors = [dist[1] for dist in distances[:k]]\n",
    "\n",
    "prediction = Counter(nearest_neighbors).most_common(1)[0][0]\n",
    "\n",
    "print(f\"Prediction for the query instance {query_instance}: {prediction}\")\n",
    "print(\"Distances to each training sample:\", distances)\n"
   ]
  },
  {
   "cell_type": "code",
   "execution_count": 1,
   "id": "bb74afec-8cc6-4ee5-859b-33c58fae3d73",
   "metadata": {},
   "outputs": [
    {
     "name": "stdout",
     "output_type": "stream",
     "text": [
      "Prediction for the new instance (Age=32, Salary=85K, Experience=6): Yes\n",
      "Confusion Matrix:\n",
      "[[1 0]\n",
      " [1 3]]\n"
     ]
    },
    {
     "name": "stderr",
     "output_type": "stream",
     "text": [
      "C:\\Users\\LAPTOP WORLD\\AppData\\Local\\Programs\\Python\\Python313\\Lib\\site-packages\\sklearn\\base.py:493: UserWarning: X does not have valid feature names, but KNeighborsClassifier was fitted with feature names\n",
      "  warnings.warn(\n"
     ]
    }
   ],
   "source": [
    "import pandas as pd\n",
    "from sklearn.neighbors import KNeighborsClassifier\n",
    "from sklearn.model_selection import train_test_split\n",
    "from sklearn.metrics import confusion_matrix\n",
    "# New dataset\n",
    "data = [\n",
    "    {'Age': 24, 'Salary': 50, 'Experience': 1, 'Loan Approval': 'No'},\n",
    "    {'Age': 28, 'Salary': 60, 'Experience': 3, 'Loan Approval': 'No'},\n",
    "    {'Age': 35, 'Salary': 80, 'Experience': 7, 'Loan Approval': 'Yes'},\n",
    "    {'Age': 40, 'Salary': 100, 'Experience': 10, 'Loan Approval': 'Yes'},\n",
    "    {'Age': 45, 'Salary': 120, 'Experience': 15, 'Loan Approval': 'Yes'},\n",
    "    {'Age': 23, 'Salary': 45, 'Experience': 0, 'Loan Approval': 'No'},\n",
    "    {'Age': 30, 'Salary': 70, 'Experience': 4, 'Loan Approval': 'No'},\n",
    "    {'Age': 33, 'Salary': 85, 'Experience': 8, 'Loan Approval': 'Yes'},\n",
    "    {'Age': 38, 'Salary': 90, 'Experience': 12, 'Loan Approval': 'Yes'},\n",
    "    {'Age': 42, 'Salary': 110, 'Experience': 14, 'Loan Approval': 'Yes'},\n",
    "    {'Age': 48, 'Salary': 130, 'Experience': 18, 'Loan Approval': 'Yes'},\n",
    "    {'Age': 27, 'Salary': 65, 'Experience': 2, 'Loan Approval': 'No'},\n",
    "    {'Age': 31, 'Salary': 75, 'Experience': 5, 'Loan Approval': 'No'},\n",
    "    {'Age': 29, 'Salary': 55, 'Experience': 3, 'Loan Approval': 'No'}\n",
    "]\n",
    "df = pd.DataFrame(data)\n",
    "X = df[['Age', 'Salary', 'Experience']]  \n",
    "y = df['Loan Approval']  \n",
    "X_train, X_test, y_train, y_test = train_test_split(X, y, test_size=0.3, random_state=42)\n",
    "knn = KNeighborsClassifier(n_neighbors=3)  \n",
    "knn.fit(X_train, y_train)\n",
    "y_pred = knn.predict(X_test)\n",
    "query = [[32, 85, 6]] \n",
    "prediction = knn.predict(query)\n",
    "print(f\"Prediction for the new instance (Age=32, Salary=85K, Experience=6): {prediction[0]}\")\n",
    "cm = confusion_matrix(y_test, y_pred, labels=['Yes', 'No'])\n",
    "print(\"Confusion Matrix:\")\n",
    "print(cm)\n"
   ]
  },
  {
   "cell_type": "code",
   "execution_count": 2,
   "id": "4f4be27f-ba4b-4e01-a9e4-65e230e509ec",
   "metadata": {},
   "outputs": [
    {
     "name": "stdout",
     "output_type": "stream",
     "text": [
      "Prediction for the new instance (Age=32, Salary=85K, Experience=6): Yes\n",
      "Confusion Matrix:\n",
      "[[1 0]\n",
      " [1 3]]\n",
      "\n",
      "Classification Report:\n",
      "              precision    recall  f1-score   support\n",
      "\n",
      "         Yes       0.50      1.00      0.67         1\n",
      "          No       1.00      0.75      0.86         4\n",
      "\n",
      "    accuracy                           0.80         5\n",
      "   macro avg       0.75      0.88      0.76         5\n",
      "weighted avg       0.90      0.80      0.82         5\n",
      "\n"
     ]
    },
    {
     "name": "stderr",
     "output_type": "stream",
     "text": [
      "C:\\Users\\LAPTOP WORLD\\AppData\\Local\\Programs\\Python\\Python313\\Lib\\site-packages\\sklearn\\base.py:493: UserWarning: X does not have valid feature names, but KNeighborsClassifier was fitted with feature names\n",
      "  warnings.warn(\n"
     ]
    }
   ],
   "source": [
    "import pandas as pd\n",
    "from sklearn.neighbors import KNeighborsClassifier\n",
    "from sklearn.model_selection import train_test_split\n",
    "from sklearn.metrics import confusion_matrix, classification_report\n",
    "# New dataset\n",
    "data = [\n",
    "    {'Age': 24, 'Salary': 50, 'Experience': 1, 'Loan Approval': 'No'},\n",
    "    {'Age': 28, 'Salary': 60, 'Experience': 3, 'Loan Approval': 'No'},\n",
    "    {'Age': 35, 'Salary': 80, 'Experience': 7, 'Loan Approval': 'Yes'},\n",
    "    {'Age': 40, 'Salary': 100, 'Experience': 10, 'Loan Approval': 'Yes'},\n",
    "    {'Age': 45, 'Salary': 120, 'Experience': 15, 'Loan Approval': 'Yes'},\n",
    "    {'Age': 23, 'Salary': 45, 'Experience': 0, 'Loan Approval': 'No'},\n",
    "    {'Age': 30, 'Salary': 70, 'Experience': 4, 'Loan Approval': 'No'},\n",
    "    {'Age': 33, 'Salary': 85, 'Experience': 8, 'Loan Approval': 'Yes'},\n",
    "    {'Age': 38, 'Salary': 90, 'Experience': 12, 'Loan Approval': 'Yes'},\n",
    "    {'Age': 42, 'Salary': 110, 'Experience': 14, 'Loan Approval': 'Yes'},\n",
    "    {'Age': 48, 'Salary': 130, 'Experience': 18, 'Loan Approval': 'Yes'},\n",
    "    {'Age': 27, 'Salary': 65, 'Experience': 2, 'Loan Approval': 'No'},\n",
    "    {'Age': 31, 'Salary': 75, 'Experience': 5, 'Loan Approval': 'No'},\n",
    "    {'Age': 29, 'Salary': 55, 'Experience': 3, 'Loan Approval': 'No'}\n",
    "]\n",
    "df = pd.DataFrame(data)\n",
    "X = df[['Age', 'Salary', 'Experience']]  \n",
    "y = df['Loan Approval']  \n",
    "X_train, X_test, y_train, y_test = train_test_split(X, y, test_size=0.3, random_state=42)\n",
    "knn = KNeighborsClassifier(n_neighbors=3) \n",
    "knn.fit(X_train, y_train)\n",
    "y_pred = knn.predict(X_test)\n",
    "query = [[32, 85, 6]]  \n",
    "prediction = knn.predict(query)\n",
    "print(f\"Prediction for the new instance (Age=32, Salary=85K, Experience=6): {prediction[0]}\")\n",
    "cm = confusion_matrix(y_test, y_pred, labels=['Yes', 'No'])\n",
    "print(\"Confusion Matrix:\")\n",
    "print(cm)\n",
    "print(\"\\nClassification Report:\")\n",
    "print(classification_report(y_test, y_pred, labels=['Yes', 'No']))\n"
   ]
  },
  {
   "cell_type": "code",
   "execution_count": 3,
   "id": "f95f7298-1be3-4338-b309-94c2d483a0df",
   "metadata": {},
   "outputs": [
    {
     "name": "stdout",
     "output_type": "stream",
     "text": [
      "Prediction: Good\n",
      "\n",
      "Distances to each training sample:\n",
      "Distance: 3.0, Label: Good\n",
      "Distance: 3.605551275463989, Label: Good\n",
      "Distance: 4.0, Label: Bad\n",
      "Distance: 5.0, Label: Bad\n"
     ]
    }
   ],
   "source": [
    "import numpy as np\n",
    "from collections import Counter\n",
    "X_train = np.array([[7, 7], [7, 4], [3, 4], [1, 4]])\n",
    "y_train = np.array(['Bad', 'Bad', 'Good', 'Good'])\n",
    "query_instance = np.array([3, 7])\n",
    "def euclidean_distance(x1, x2):\n",
    "    return np.sqrt(np.sum((x1 - x2)**2))\n",
    "    \n",
    "distances = []\n",
    "for i in range(len(X_train)):\n",
    "    dist = euclidean_distance(query_instance, X_train[i])\n",
    "    distances.append((dist, y_train[i]))\n",
    "    \n",
    "distances.sort(key=lambda x: x[0])\n",
    "neighbors = distances[:3]\n",
    "prediction = Counter([neighbor[1] for neighbor in neighbors]).most_common(1)[0][0]\n",
    "print(f\"Prediction: {prediction}\")\n",
    "print(\"\\nDistances to each training sample:\")\n",
    "for dist, label in distances:\n",
    "    print(f\"Distance: {dist}, Label: {label}\")\n"
   ]
  },
  {
   "cell_type": "code",
   "execution_count": null,
   "id": "4b8a558c-2c3a-444a-9468-18d1671ec11f",
   "metadata": {},
   "outputs": [],
   "source": []
  }
 ],
 "metadata": {
  "kernelspec": {
   "display_name": "Python 3 (ipykernel)",
   "language": "python",
   "name": "python3"
  },
  "language_info": {
   "codemirror_mode": {
    "name": "ipython",
    "version": 3
   },
   "file_extension": ".py",
   "mimetype": "text/x-python",
   "name": "python",
   "nbconvert_exporter": "python",
   "pygments_lexer": "ipython3",
   "version": "3.13.0"
  }
 },
 "nbformat": 4,
 "nbformat_minor": 5
}
