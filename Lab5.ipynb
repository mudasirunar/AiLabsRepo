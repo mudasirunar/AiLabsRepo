{
 "cells": [
  {
   "cell_type": "code",
   "execution_count": 2,
   "id": "a40ee9ab-f971-46d7-b8ff-820b6e3304d3",
   "metadata": {},
   "outputs": [
    {
     "name": "stdout",
     "output_type": "stream",
     "text": [
      "The predicted gender is: male\n"
     ]
    },
    {
     "name": "stderr",
     "output_type": "stream",
     "text": [
      "C:\\Users\\LAPTOP WORLD\\AppData\\Local\\Programs\\Python\\Python313\\Lib\\site-packages\\sklearn\\base.py:493: UserWarning: X does not have valid feature names, but DecisionTreeClassifier was fitted with feature names\n",
      "  warnings.warn(\n"
     ]
    }
   ],
   "source": [
    "import pandas as pd\n",
    "from sklearn.preprocessing import LabelEncoder\n",
    "from sklearn.tree import DecisionTreeClassifier\n",
    "\n",
    "data = {\n",
    "    'Gender': ['male', 'male', 'male', 'male', 'female', 'female', 'female', 'female'],\n",
    "    'Height': [6.00, 5.92, 5.58, 5.92, 5.00, 5.50, 5.42, 5.75],\n",
    "    'Weight': [180, 190, 170, 165, 100, 150, 130, 150],\n",
    "    'Foot_Size': [12, 11, 12, 10, 6, 8, 7, 9]\n",
    "}\n",
    "\n",
    "df = pd.DataFrame(data)\n",
    "encoder = LabelEncoder()\n",
    "df['Gender'] = encoder.fit_transform(df['Gender'])\n",
    "\n",
    "X = df[['Height', 'Weight', 'Foot_Size']]\n",
    "y = df['Gender']\n",
    "\n",
    "model = DecisionTreeClassifier()\n",
    "model.fit(X, y)\n",
    "\n",
    "new_entry = [[5.85, 160, 10]]\n",
    "predicted_gender = model.predict(new_entry)\n",
    "gender_label = encoder.inverse_transform(predicted_gender)\n",
    "print(f\"The predicted gender is: {gender_label[0]}\")\n"
   ]
  },
  {
   "cell_type": "code",
   "execution_count": 3,
   "id": "1039e6dc-6a0d-45fc-8692-723a5eec3371",
   "metadata": {},
   "outputs": [
    {
     "name": "stdout",
     "output_type": "stream",
     "text": [
      "The predicted gender is: male\n",
      "\n",
      "Updated Dataset:\n",
      "   Gender  Height  Weight  Foot_Size\n",
      "0       1    6.00     180         12\n",
      "1       1    5.92     190         11\n",
      "2       1    5.58     170         12\n",
      "3       1    5.92     165         10\n",
      "4       0    5.00     100          6\n",
      "5       0    5.50     150          8\n",
      "6       0    5.42     130          7\n",
      "7       0    5.75     150          9\n",
      "8       1    5.85     160         10\n"
     ]
    },
    {
     "name": "stderr",
     "output_type": "stream",
     "text": [
      "C:\\Users\\LAPTOP WORLD\\AppData\\Local\\Programs\\Python\\Python313\\Lib\\site-packages\\sklearn\\base.py:493: UserWarning: X does not have valid feature names, but DecisionTreeClassifier was fitted with feature names\n",
      "  warnings.warn(\n"
     ]
    }
   ],
   "source": [
    "import pandas as pd\n",
    "from sklearn.preprocessing import LabelEncoder\n",
    "from sklearn.tree import DecisionTreeClassifier\n",
    "\n",
    "data = {\n",
    "    'Gender': ['male', 'male', 'male', 'male', 'female', 'female', 'female', 'female'],\n",
    "    'Height': [6.00, 5.92, 5.58, 5.92, 5.00, 5.50, 5.42, 5.75],\n",
    "    'Weight': [180, 190, 170, 165, 100, 150, 130, 150],\n",
    "    'Foot_Size': [12, 11, 12, 10, 6, 8, 7, 9]\n",
    "}\n",
    "\n",
    "df = pd.DataFrame(data)\n",
    "encoder = LabelEncoder()\n",
    "df['Gender'] = encoder.fit_transform(df['Gender'])\n",
    "\n",
    "X = df[['Height', 'Weight', 'Foot_Size']]\n",
    "y = df['Gender']\n",
    "\n",
    "model = DecisionTreeClassifier()\n",
    "model.fit(X, y)\n",
    "\n",
    "new_entry = [[5.85, 160, 10]]\n",
    "predicted_gender = model.predict(new_entry)\n",
    "gender_label = encoder.inverse_transform(predicted_gender)\n",
    "print(f\"The predicted gender is: {gender_label[0]}\")\n",
    "\n",
    "new_data = {\n",
    "    'Gender': encoder.transform([gender_label[0]])[0],\n",
    "    'Height': new_entry[0][0],\n",
    "    'Weight': new_entry[0][1],\n",
    "    'Foot_Size': new_entry[0][2]\n",
    "}\n",
    "\n",
    "df = pd.concat([df, pd.DataFrame([new_data])], ignore_index=True)\n",
    "print(\"\\nUpdated Dataset:\")\n",
    "print(df)\n"
   ]
  },
  {
   "cell_type": "code",
   "execution_count": 4,
   "id": "ac98b69c-f1d6-47e3-9ea1-32916a731b31",
   "metadata": {},
   "outputs": [
    {
     "name": "stdout",
     "output_type": "stream",
     "text": [
      "The predicted gender is: male\n",
      "\n",
      "Updated Dataset:\n",
      "[1 6.0 180 12]\n",
      "[1 5.92 190 11]\n",
      "[1 5.58 170 12]\n",
      "[1 5.92 165 10]\n",
      "[0 5.0 100 6]\n",
      "[0 5.5 150 8]\n",
      "[0 5.42 130 7]\n",
      "[0 5.75 150 9]\n",
      "[1.0 5.85 160.0 10.0]\n"
     ]
    }
   ],
   "source": [
    "import numpy as np\n",
    "from sklearn.preprocessing import LabelEncoder\n",
    "from sklearn.tree import DecisionTreeClassifier\n",
    "\n",
    "data = [\n",
    "    ['male', 6.00, 180, 12],\n",
    "    ['male', 5.92, 190, 11],\n",
    "    ['male', 5.58, 170, 12],\n",
    "    ['male', 5.92, 165, 10],\n",
    "    ['female', 5.00, 100, 6],\n",
    "    ['female', 5.50, 150, 8],\n",
    "    ['female', 5.42, 130, 7],\n",
    "    ['female', 5.75, 150, 9]\n",
    "]\n",
    "\n",
    "data = np.array(data, dtype=object)\n",
    "encoder = LabelEncoder()\n",
    "data[:, 0] = encoder.fit_transform(data[:, 0])\n",
    "\n",
    "X = data[:, 1:].astype(float)\n",
    "y = data[:, 0].astype(int)\n",
    "\n",
    "model = DecisionTreeClassifier()\n",
    "model.fit(X, y)\n",
    "\n",
    "new_entry = np.array([[5.85, 160, 10]])\n",
    "predicted_gender = model.predict(new_entry)\n",
    "gender_label = encoder.inverse_transform(predicted_gender)\n",
    "print(f\"The predicted gender is: {gender_label[0]}\")\n",
    "\n",
    "new_row = np.array([[predicted_gender[0], new_entry[0][0], new_entry[0][1], new_entry[0][2]]])\n",
    "data = np.vstack((data, new_row))\n",
    "\n",
    "print(\"\\nUpdated Dataset:\")\n",
    "for row in data:\n",
    "    print(row)\n"
   ]
  },
  {
   "cell_type": "code",
   "execution_count": 5,
   "id": "d6f0f8a7-e6a0-4e52-9177-8f2516ae9b00",
   "metadata": {},
   "outputs": [
    {
     "name": "stdout",
     "output_type": "stream",
     "text": [
      "The predicted gender is: male\n",
      "\n",
      "Updated Dataset:\n",
      "[1 6.0 180 12]\n",
      "[1 5.92 190 11]\n",
      "[1 5.58 170 12]\n",
      "[1 5.92 165 10]\n",
      "[0 5.0 100 6]\n",
      "[0 5.5 150 8]\n",
      "[0 5.42 130 7]\n",
      "[0 5.75 150 9]\n",
      "[1.0 5.85 160.0 10.0]\n"
     ]
    }
   ],
   "source": [
    "import numpy as np\n",
    "from sklearn.preprocessing import LabelEncoder\n",
    "from sklearn.tree import DecisionTreeClassifier\n",
    "\n",
    "data = [\n",
    "    ['male', 6.00, 180, 12],\n",
    "    ['male', 5.92, 190, 11],\n",
    "    ['male', 5.58, 170, 12],\n",
    "    ['male', 5.92, 165, 10],\n",
    "    ['female', 5.00, 100, 6],\n",
    "    ['female', 5.50, 150, 8],\n",
    "    ['female', 5.42, 130, 7],\n",
    "    ['female', 5.75, 150, 9]\n",
    "]\n",
    "\n",
    "data = np.array(data, dtype=object)\n",
    "encoder = LabelEncoder()\n",
    "data[:, 0] = encoder.fit_transform(data[:, 0])\n",
    "\n",
    "X = data[:, 1:].astype(float)\n",
    "y = data[:, 0].astype(int)\n",
    "\n",
    "model = DecisionTreeClassifier()\n",
    "model.fit(X, y)\n",
    "\n",
    "new_entry = np.array([[5.85, 160, 10]])\n",
    "predicted_gender = model.predict(new_entry)\n",
    "gender_label = encoder.inverse_transform(predicted_gender)\n",
    "print(f\"The predicted gender is: {gender_label[0]}\")\n",
    "\n",
    "new_row = np.array([[predicted_gender[0], new_entry[0][0], new_entry[0][1], new_entry[0][2]]])\n",
    "data = np.vstack((data, new_row))\n",
    "\n",
    "print(\"\\nUpdated Dataset:\")\n",
    "for row in data:\n",
    "    print(row)\n"
   ]
  },
  {
   "cell_type": "code",
   "execution_count": 6,
   "id": "64e2b966-9ba6-4dfb-87d6-8eecc9731671",
   "metadata": {},
   "outputs": [
    {
     "name": "stdout",
     "output_type": "stream",
     "text": [
      "Enter new entry details:\n"
     ]
    },
    {
     "name": "stdin",
     "output_type": "stream",
     "text": [
      "Age:  23\n",
      "Salary (in $K):  50000\n",
      "Experience (Years):  4\n"
     ]
    },
    {
     "name": "stdout",
     "output_type": "stream",
     "text": [
      "The predicted Loan Approval is: No\n"
     ]
    }
   ],
   "source": [
    "from sklearn.tree import DecisionTreeClassifier\n",
    "from sklearn.preprocessing import LabelEncoder\n",
    "import numpy as np\n",
    "\n",
    "data = [\n",
    "    [24, 50, 1, 'No'],\n",
    "    [28, 60, 3, 'No'],\n",
    "    [35, 80, 7, 'Yes'],\n",
    "    [40, 100, 10, 'Yes'],\n",
    "    [45, 120, 15, 'Yes'],\n",
    "    [23, 45, 0, 'No'],\n",
    "    [30, 70, 4, 'No'],\n",
    "    [33, 85, 8, 'Yes'],\n",
    "    [38, 90, 12, 'Yes'],\n",
    "    [42, 110, 14, 'Yes'],\n",
    "    [48, 130, 18, 'Yes'],\n",
    "    [27, 65, 2, 'No'],\n",
    "    [31, 75, 5, 'No'],\n",
    "    [29, 55, 3, 'No']\n",
    "]\n",
    "\n",
    "data = np.array(data)\n",
    "X = data[:, :-1].astype(float)\n",
    "y = data[:, -1]\n",
    "label_encoder = LabelEncoder()\n",
    "y_encoded = label_encoder.fit_transform(y)\n",
    "model = DecisionTreeClassifier()\n",
    "model.fit(X, y_encoded)\n",
    "\n",
    "print(\"Enter new entry details:\")\n",
    "age = float(input(\"Age: \"))\n",
    "salary = float(input(\"Salary (in $K): \"))\n",
    "experience = float(input(\"Experience (Years): \"))\n",
    "\n",
    "new_entry = np.array([[age, salary, experience]])\n",
    "prediction = model.predict(new_entry)\n",
    "predicted_label = label_encoder.inverse_transform(prediction)\n",
    "\n",
    "print(f\"The predicted Loan Approval is: {predicted_label[0]}\")\n"
   ]
  },
  {
   "cell_type": "code",
   "execution_count": 7,
   "id": "987cf15e-3915-4a72-ad25-62c21f42ba48",
   "metadata": {},
   "outputs": [
    {
     "name": "stdout",
     "output_type": "stream",
     "text": [
      "Enter new entry details:\n"
     ]
    },
    {
     "name": "stdin",
     "output_type": "stream",
     "text": [
      "Age:  23\n",
      "Salary (in $K):  50000\n",
      "Experience (Years):  4\n"
     ]
    },
    {
     "name": "stdout",
     "output_type": "stream",
     "text": [
      "The predicted Loan Approval is: Yes\n",
      "\n",
      "Updated Dataset:\n",
      "[['24' '50' '1' 'No']\n",
      " ['28' '60' '3' 'No']\n",
      " ['35' '80' '7' 'Yes']\n",
      " ['40' '100' '10' 'Yes']\n",
      " ['45' '120' '15' 'Yes']\n",
      " ['23' '45' '0' 'No']\n",
      " ['30' '70' '4' 'No']\n",
      " ['33' '85' '8' 'Yes']\n",
      " ['38' '90' '12' 'Yes']\n",
      " ['42' '110' '14' 'Yes']\n",
      " ['48' '130' '18' 'Yes']\n",
      " ['27' '65' '2' 'No']\n",
      " ['31' '75' '5' 'No']\n",
      " ['29' '55' '3' 'No']\n",
      " ['23.0' '50000.0' '4.0' 'Yes']]\n"
     ]
    }
   ],
   "source": [
    "from sklearn.tree import DecisionTreeClassifier\n",
    "from sklearn.preprocessing import LabelEncoder\n",
    "import numpy as np\n",
    "\n",
    "data = [\n",
    "    [24, 50, 1, 'No'],\n",
    "    [28, 60, 3, 'No'],\n",
    "    [35, 80, 7, 'Yes'],\n",
    "    [40, 100, 10, 'Yes'],\n",
    "    [45, 120, 15, 'Yes'],\n",
    "    [23, 45, 0, 'No'],\n",
    "    [30, 70, 4, 'No'],\n",
    "    [33, 85, 8, 'Yes'],\n",
    "    [38, 90, 12, 'Yes'],\n",
    "    [42, 110, 14, 'Yes'],\n",
    "    [48, 130, 18, 'Yes'],\n",
    "    [27, 65, 2, 'No'],\n",
    "    [31, 75, 5, 'No'],\n",
    "    [29, 55, 3, 'No']\n",
    "]\n",
    "\n",
    "data = np.array(data)\n",
    "X = data[:, :-1].astype(float)\n",
    "y = data[:, -1]\n",
    "label_encoder = LabelEncoder()\n",
    "y_encoded = label_encoder.fit_transform(y)\n",
    "\n",
    "model = DecisionTreeClassifier()\n",
    "model.fit(X, y_encoded)\n",
    "\n",
    "print(\"Enter new entry details:\")\n",
    "age = float(input(\"Age: \"))\n",
    "salary = float(input(\"Salary (in $K): \"))\n",
    "experience = float(input(\"Experience (Years): \"))\n",
    "\n",
    "new_entry = np.array([[age, salary, experience]])\n",
    "prediction = model.predict(new_entry)\n",
    "predicted_label = label_encoder.inverse_transform(prediction)\n",
    "\n",
    "print(f\"The predicted Loan Approval is: {predicted_label[0]}\")\n",
    "\n",
    "new_entry_with_label = np.append(new_entry, predicted_label[0])\n",
    "\n",
    "data = np.append(data, [new_entry_with_label], axis=0)\n",
    "\n",
    "print(\"\\nUpdated Dataset:\")\n",
    "print(data)\n"
   ]
  },
  {
   "cell_type": "code",
   "execution_count": 8,
   "id": "cbc80411-588f-4fe6-b051-b794d8493a5c",
   "metadata": {},
   "outputs": [
    {
     "name": "stdout",
     "output_type": "stream",
     "text": [
      "Enter new entry details:\n"
     ]
    },
    {
     "name": "stdin",
     "output_type": "stream",
     "text": [
      "Age:  23\n",
      "Salary (in $K):  50000\n",
      "Experience (Years):  4\n"
     ]
    },
    {
     "name": "stdout",
     "output_type": "stream",
     "text": [
      "The predicted Loan Approval is: Yes\n"
     ]
    }
   ],
   "source": [
    "from sklearn.tree import DecisionTreeClassifier\n",
    "from sklearn.preprocessing import LabelEncoder\n",
    "import numpy as np\n",
    "\n",
    "data = [\n",
    "    [24, 50, 1, 'No'],\n",
    "    [28, 60, 3, 'No'],\n",
    "    [35, 80, 7, 'Yes'],\n",
    "    [40, 100, 10, 'Yes'],\n",
    "    [45, 120, 15, 'Yes'],\n",
    "    [23, 45, 0, 'No'],\n",
    "    [30, 70, 4, 'No'],\n",
    "    [33, 85, 8, 'Yes'],\n",
    "    [38, 90, 12, 'Yes'],\n",
    "    [42, 110, 14, 'Yes'],\n",
    "    [48, 130, 18, 'Yes'],\n",
    "    [27, 65, 2, 'No'],\n",
    "    [31, 75, 5, 'No'],\n",
    "    [29, 55, 3, 'No']\n",
    "]\n",
    "\n",
    "data = np.array(data)\n",
    "X = data[:, :-1].astype(float)\n",
    "y = data[:, -1]\n",
    "label_encoder = LabelEncoder()\n",
    "y_encoded = label_encoder.fit_transform(y)\n",
    "\n",
    "model = DecisionTreeClassifier()\n",
    "model.fit(X, y_encoded)\n",
    "\n",
    "print(\"Enter new entry details:\")\n",
    "age = float(input(\"Age: \"))\n",
    "salary = float(input(\"Salary (in $K): \"))\n",
    "experience = float(input(\"Experience (Years): \"))\n",
    "\n",
    "new_entry = np.array([[age, salary, experience]])\n",
    "prediction = model.predict(new_entry)\n",
    "predicted_label = label_encoder.inverse_transform(prediction)\n",
    "\n",
    "print(f\"The predicted Loan Approval is: {predicted_label[0]}\")\n"
   ]
  },
  {
   "cell_type": "code",
   "execution_count": null,
   "id": "cb6d742c-927d-4f52-b590-1f75eda6fc13",
   "metadata": {},
   "outputs": [],
   "source": []
  }
 ],
 "metadata": {
  "kernelspec": {
   "display_name": "Python 3 (ipykernel)",
   "language": "python",
   "name": "python3"
  },
  "language_info": {
   "codemirror_mode": {
    "name": "ipython",
    "version": 3
   },
   "file_extension": ".py",
   "mimetype": "text/x-python",
   "name": "python",
   "nbconvert_exporter": "python",
   "pygments_lexer": "ipython3",
   "version": "3.13.0"
  }
 },
 "nbformat": 4,
 "nbformat_minor": 5
}
