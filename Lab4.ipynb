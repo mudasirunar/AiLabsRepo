{
 "cells": [
  {
   "cell_type": "code",
   "execution_count": 1,
   "id": "c07a770b-f328-4f42-9676-6b643331f10e",
   "metadata": {},
   "outputs": [
    {
     "name": "stdout",
     "output_type": "stream",
     "text": [
      "              precision    recall  f1-score   support\n",
      "\n",
      "           0       0.00      0.00      0.00         1\n",
      "           1       0.67      1.00      0.80         2\n",
      "\n",
      "    accuracy                           0.67         3\n",
      "   macro avg       0.33      0.50      0.40         3\n",
      "weighted avg       0.44      0.67      0.53         3\n",
      "\n",
      "Accuracy Score: 0.6666666666666666\n",
      "Prediction for weather = Overcast and temperature = Mild: Yes\n"
     ]
    },
    {
     "name": "stderr",
     "output_type": "stream",
     "text": [
      "C:\\Users\\LAPTOP WORLD\\AppData\\Local\\Programs\\Python\\Python313\\Lib\\site-packages\\sklearn\\metrics\\_classification.py:1531: UndefinedMetricWarning: Precision is ill-defined and being set to 0.0 in labels with no predicted samples. Use `zero_division` parameter to control this behavior.\n",
      "  _warn_prf(average, modifier, f\"{metric.capitalize()} is\", len(result))\n",
      "C:\\Users\\LAPTOP WORLD\\AppData\\Local\\Programs\\Python\\Python313\\Lib\\site-packages\\sklearn\\metrics\\_classification.py:1531: UndefinedMetricWarning: Precision is ill-defined and being set to 0.0 in labels with no predicted samples. Use `zero_division` parameter to control this behavior.\n",
      "  _warn_prf(average, modifier, f\"{metric.capitalize()} is\", len(result))\n",
      "C:\\Users\\LAPTOP WORLD\\AppData\\Local\\Programs\\Python\\Python313\\Lib\\site-packages\\sklearn\\metrics\\_classification.py:1531: UndefinedMetricWarning: Precision is ill-defined and being set to 0.0 in labels with no predicted samples. Use `zero_division` parameter to control this behavior.\n",
      "  _warn_prf(average, modifier, f\"{metric.capitalize()} is\", len(result))\n",
      "C:\\Users\\LAPTOP WORLD\\AppData\\Local\\Programs\\Python\\Python313\\Lib\\site-packages\\sklearn\\base.py:493: UserWarning: X does not have valid feature names, but GaussianNB was fitted with feature names\n",
      "  warnings.warn(\n"
     ]
    }
   ],
   "source": [
    "import pandas as pd\n",
    "from sklearn.model_selection import train_test_split\n",
    "from sklearn.naive_bayes import GaussianNB\n",
    "from sklearn.metrics import classification_report, accuracy_score\n",
    "data = {\n",
    "    'Weather': ['Sunny', 'Sunny', 'Overcast', 'Rainy', 'Rainy', 'Rainy', 'Overcast', 'Sunny', 'Sunny', 'Rainy', 'Sunny', 'Overcast', 'Overcast', 'Rainy'],\n",
    "    'Temperature': ['Hot', 'Hot', 'Hot', 'Mild', 'Cool', 'Cool', 'Cool', 'Mild', 'Cool', 'Mild', 'Mild', 'Mild', 'Hot', 'Mild'],\n",
    "    'Play': ['No', 'No', 'Yes', 'Yes', 'Yes', 'No', 'Yes', 'No', 'Yes', 'Yes', 'Yes', 'Yes', 'Yes', 'No']\n",
    "}\n",
    "df = pd.DataFrame(data)\n",
    "df['Weather'] = df['Weather'].map({'Sunny': 0, 'Overcast': 1, 'Rainy': 2})\n",
    "df['Temperature'] = df['Temperature'].map({'Hot': 0, 'Mild': 1, 'Cool': 2})\n",
    "df['Play'] = df['Play'].map({'No': 0, 'Yes': 1})\n",
    "X = df[['Weather', 'Temperature']]\n",
    "y = df['Play']\n",
    "X_train, X_test, y_train, y_test = train_test_split(X, y, test_size=0.2, random_state=42)\n",
    "model = GaussianNB()\n",
    "model.fit(X_train, y_train)\n",
    "y_pred = model.predict(X_test)\n",
    "print(classification_report(y_test, y_pred))\n",
    "print(\"Accuracy Score:\", accuracy_score(y_test, y_pred))\n",
    "query = [[1, 1]]\n",
    "prediction = model.predict(query)\n",
    "prediction = 'Yes' if prediction[0] == 1 else 'No'\n",
    "print(f\"Prediction for weather = Overcast and temperature = Mild: {prediction}\")\n"
   ]
  },
  {
   "cell_type": "code",
   "execution_count": 2,
   "id": "9df850b8-cfc7-4f24-ab60-ad5fe14d23aa",
   "metadata": {},
   "outputs": [
    {
     "name": "stdout",
     "output_type": "stream",
     "text": [
      "Predicted class for Youth/Medium/Yes/Fair: Yes\n"
     ]
    }
   ],
   "source": [
    "import pandas as pd\n",
    "from sklearn.preprocessing import LabelEncoder\n",
    "from sklearn.naive_bayes import GaussianNB\n",
    "from sklearn.model_selection import train_test_split\n",
    "from sklearn.metrics import accuracy_score\n",
    "data = {\n",
    "    'Age': ['Youth', 'Youth', 'Middle_Aged', 'Senior', 'Senior', 'Senior', 'Middle_Aged', 'Youth', 'Youth', 'Senior', 'Youth', 'Middle_Aged', 'Middle_Aged', 'Senior'],\n",
    "    'Income': ['High', 'High', 'High', 'Medium', 'Low', 'Low', 'Low', 'Medium', 'Low', 'Medium', 'Medium', 'Medium', 'High', 'Medium'],\n",
    "    'Student': ['No', 'No', 'No', 'No', 'Yes', 'Yes', 'Yes', 'No', 'Yes', 'Yes', 'Yes', 'No', 'Yes', 'No'],\n",
    "    'Credit Rating': ['Fair', 'Excellent', 'Fair', 'Fair', 'Fair', 'Excellent', 'Excellent', 'Fair', 'Fair', 'Fair', 'Excellent', 'Excellent', 'Fair', 'Excellent'],\n",
    "    'Buys Computer': ['No', 'No', 'Yes', 'Yes', 'Yes', 'No', 'Yes', 'No', 'Yes', 'Yes', 'Yes', 'Yes', 'Yes', 'No']\n",
    "}\n",
    "df = pd.DataFrame(data)\n",
    "label_encoder_age = LabelEncoder()\n",
    "df['Age'] = label_encoder_age.fit_transform(df['Age'])\n",
    "label_encoder_income = LabelEncoder()\n",
    "df['Income'] = label_encoder_income.fit_transform(df['Income'])\n",
    "label_encoder_student = LabelEncoder()\n",
    "df['Student'] = label_encoder_student.fit_transform(df['Student'])\n",
    "label_encoder_credit = LabelEncoder()\n",
    "df['Credit Rating'] = label_encoder_credit.fit_transform(df['Credit Rating'])\n",
    "label_encoder_buy = LabelEncoder()\n",
    "df['Buys Computer'] = label_encoder_buy.fit_transform(df['Buys Computer'])\n",
    "X = df.drop('Buys Computer', axis=1)  \n",
    "y = df['Buys Computer']            \n",
    "\n",
    "model = GaussianNB()\n",
    "model.fit(X, y)\n",
    "new_data = pd.DataFrame({\n",
    "    'Age': [label_encoder_age.transform(['Youth'])[0]], \n",
    "    'Income': [label_encoder_income.transform(['Medium'])[0]], \n",
    "    'Student': [label_encoder_student.transform(['Yes'])[0]], \n",
    "    'Credit Rating': [label_encoder_credit.transform(['Fair'])[0]]\n",
    "})\n",
    "predicted_class = model.predict(new_data)\n",
    "predicted_class_label = label_encoder_buy.inverse_transform(predicted_class)\n",
    "print(f\"Predicted class for Youth/Medium/Yes/Fair: {predicted_class_label[0]}\")"
   ]
  },
  {
   "cell_type": "code",
   "execution_count": 3,
   "id": "6df5639a-38d4-4391-b347-56c1f26fb1c8",
   "metadata": {},
   "outputs": [
    {
     "name": "stdout",
     "output_type": "stream",
     "text": [
      "Predicted Loan Approval: No\n"
     ]
    }
   ],
   "source": [
    "import pandas as pd\n",
    "from sklearn.model_selection import train_test_split\n",
    "from sklearn.naive_bayes import GaussianNB\n",
    "from sklearn.preprocessing import LabelEncoder\n",
    "\n",
    "data = {\n",
    "    'Age': [24, 28, 35, 40, 45, 23, 30, 33, 38, 42, 48, 27, 31, 29],\n",
    "    'Salary (in $K)': [50, 60, 80, 100, 120, 45, 70, 85, 90, 110, 130, 65, 75, 55],\n",
    "    'Experience (Years)': [1, 3, 7, 10, 15, 0, 4, 8, 12, 14, 18, 2, 5, 3],\n",
    "    'Loan Approval': ['No', 'No', 'Yes', 'Yes', 'Yes', 'No', 'No', 'Yes', 'Yes', 'Yes', 'Yes', 'No', 'No', 'No']\n",
    "}\n",
    "\n",
    "df = pd.DataFrame(data)\n",
    "\n",
    "label_encoder = LabelEncoder()\n",
    "df['Loan Approval'] = label_encoder.fit_transform(df['Loan Approval'])\n",
    "\n",
    "X = df[['Age', 'Salary (in $K)', 'Experience (Years)']]\n",
    "y = df['Loan Approval']\n",
    "\n",
    "model = GaussianNB()\n",
    "model.fit(X, y)\n",
    "\n",
    "new_data = pd.DataFrame({\n",
    "    'Age': [30],\n",
    "    'Salary (in $K)': [75],\n",
    "    'Experience (Years)': [5]\n",
    "})\n",
    "\n",
    "predicted_class = model.predict(new_data)\n",
    "predicted_class_label = label_encoder.inverse_transform(predicted_class)\n",
    "\n",
    "print(\"Predicted Loan Approval:\", predicted_class_label[0])\n"
   ]
  },
  {
   "cell_type": "code",
   "execution_count": 4,
   "id": "e69cf1ff-c25b-4273-8962-0bff518397ea",
   "metadata": {},
   "outputs": [
    {
     "name": "stdout",
     "output_type": "stream",
     "text": [
      "Predicted Loan Approval: No\n"
     ]
    }
   ],
   "source": [
    "import pandas as pd\n",
    "from sklearn.naive_bayes import GaussianNB\n",
    "from sklearn.preprocessing import LabelEncoder\n",
    "data = {\n",
    "    'Age': [24, 28, 35, 40, 45, 23, 30, 33, 38, 42, 48, 27, 31, 29],\n",
    "    'Salary': [50, 60, 80, 100, 120, 45, 70, 85, 90, 110, 130, 65, 75, 55],\n",
    "    'Experience': [1, 3, 7, 10, 15, 0, 4, 8, 12, 14, 18, 2, 5, 3],\n",
    "    'Loan Approval': ['No', 'No', 'Yes', 'Yes', 'Yes', 'No', 'No', 'Yes', 'Yes', 'Yes', 'Yes', 'No', 'No', 'No']\n",
    "}\n",
    "df = pd.DataFrame(data)\n",
    "label_encoder = LabelEncoder()\n",
    "df['Loan Approval'] = label_encoder.fit_transform(df['Loan Approval'])\n",
    "X = df[['Age', 'Salary', 'Experience']]\n",
    "y = df['Loan Approval']\n",
    "model = GaussianNB()\n",
    "model.fit(X, y)\n",
    "# New data for prediction: Age = 23, Salary = 65, Experience = 7\n",
    "new_data = pd.DataFrame({\n",
    "    'Age': [23],\n",
    "    'Salary': [65],\n",
    "    'Experience': [7]\n",
    "})\n",
    "predicted_class = model.predict(new_data)\n",
    "predicted_class_label = label_encoder.inverse_transform(predicted_class)\n",
    "print(\"Predicted Loan Approval:\", predicted_class_label[0])"
   ]
  },
  {
   "cell_type": "code",
   "execution_count": null,
   "id": "7930dec3-8eeb-4790-b395-40dbc40dca33",
   "metadata": {},
   "outputs": [],
   "source": []
  }
 ],
 "metadata": {
  "kernelspec": {
   "display_name": "Python 3 (ipykernel)",
   "language": "python",
   "name": "python3"
  },
  "language_info": {
   "codemirror_mode": {
    "name": "ipython",
    "version": 3
   },
   "file_extension": ".py",
   "mimetype": "text/x-python",
   "name": "python",
   "nbconvert_exporter": "python",
   "pygments_lexer": "ipython3",
   "version": "3.13.0"
  }
 },
 "nbformat": 4,
 "nbformat_minor": 5
}
